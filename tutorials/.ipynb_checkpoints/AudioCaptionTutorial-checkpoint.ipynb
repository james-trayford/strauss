{
 "cells": [
  {
   "cell_type": "markdown",
   "id": "3d18635b",
   "metadata": {},
   "source": [
    "# Generate an audio caption for sonification"
   ]
  },
  {
   "cell_type": "markdown",
   "id": "93cf6248",
   "metadata": {},
   "source": [
    "First, you will need to install TTS if you don't already have it."
   ]
  },
  {
   "cell_type": "code",
   "execution_count": null,
   "id": "489c835d",
   "metadata": {},
   "outputs": [],
   "source": [
    "!pip install TTS"
   ]
  },
  {
   "cell_type": "code",
   "execution_count": null,
   "id": "523be7da",
   "metadata": {},
   "outputs": [],
   "source": [
    "from TTS.api import TTS\n",
    "from IPython.display import Audio"
   ]
  },
  {
   "cell_type": "markdown",
   "id": "a232a1cc",
   "metadata": {},
   "source": [
    "The default text-to-speech (tts) model used in STRAUSS is an English-language, female voice with an Irish accent: 'tts_models/en/jenny/jenny'. You can hear a sample below: "
   ]
  },
  {
   "cell_type": "code",
   "execution_count": null,
   "id": "8d6e5f5a",
   "metadata": {},
   "outputs": [],
   "source": [
    "Audio('tts_jenny.wav', autoplay=True)"
   ]
  },
  {
   "cell_type": "markdown",
   "id": "70a2618f",
   "metadata": {},
   "source": [
    "You can choose other voices in a range of languages. To try them, use the following code:"
   ]
  },
  {
   "cell_type": "code",
   "execution_count": null,
   "id": "517ea204",
   "metadata": {},
   "outputs": [],
   "source": [
    "# List models\n",
    "TTS.list_models()"
   ]
  },
  {
   "cell_type": "code",
   "execution_count": null,
   "id": "39cde0f8",
   "metadata": {},
   "outputs": [],
   "source": [
    "# Test example: the following is a US English female voice.\n",
    "OUTPUT_PATH = 'tts_english.wav'\n",
    "tts = TTS(model_name='tts_models/en/ljspeech/tacotron2-DDC', progress_bar=False, gpu=False)\n",
    "tts.tts_to_file(text='The quick brown fox jumped over the lazy dogs.', file_path=OUTPUT_PATH)\n",
    "Audio(OUTPUT_PATH, autoplay=True)"
   ]
  },
  {
   "cell_type": "code",
   "execution_count": null,
   "id": "98d20fc0",
   "metadata": {},
   "outputs": [],
   "source": [
    "# Test example: the following is a German male voice.\n",
    "OUTPUT_PATH = 'tts_german.wav'\n",
    "tts = TTS(model_name='tts_models/de/thorsten/vits', progress_bar=False, gpu=False)\n",
    "tts.tts_to_file(text='Der flinke braune Fuchs sprang über die faulen Hunde.', file_path=OUTPUT_PATH)\n",
    "Audio(OUTPUT_PATH, autoplay=True)\n"
   ]
  },
  {
   "cell_type": "markdown",
   "id": "8ad8e140",
   "metadata": {},
   "source": [
    "Using punctuation helps create pauses and emphasis in the correct places. Below are two samples, identical apart from the addition of a comma in the second."
   ]
  },
  {
   "cell_type": "code",
   "execution_count": null,
   "id": "fb06978b",
   "metadata": {},
   "outputs": [],
   "source": [
    "Audio('tts_sample.wav', autoplay=False)"
   ]
  },
  {
   "cell_type": "code",
   "execution_count": null,
   "id": "8952a61c",
   "metadata": {},
   "outputs": [],
   "source": [
    "Audio('tts_sample_with_comma.wav', autoplay=False)"
   ]
  },
  {
   "cell_type": "markdown",
   "id": "c74bc453",
   "metadata": {},
   "source": [
    "Let's reset the model to our default:"
   ]
  },
  {
   "cell_type": "code",
   "execution_count": null,
   "id": "7da4c491",
   "metadata": {},
   "outputs": [],
   "source": [
    "tts = TTS(model_name='tts_models/en/jenny/jenny', progress_bar=False, gpu=False)"
   ]
  },
  {
   "cell_type": "markdown",
   "id": "47e5cdf5",
   "metadata": {},
   "source": [
    "You can read in a text file for the input:"
   ]
  },
  {
   "cell_type": "code",
   "execution_count": null,
   "id": "ad2ed77d",
   "metadata": {},
   "outputs": [],
   "source": [
    "file_in = open(\"input_text.txt\", \"r\").read().replace(\"\\n\", \" \")\n",
    "OUTPUT_PATH = 'tts_output.wav'\n",
    "tts.tts_to_file(text = file_in, file_path = OUTPUT_PATH)\n",
    "Audio(OUTPUT_PATH, autoplay=True)"
   ]
  },
  {
   "cell_type": "markdown",
   "id": "f3c72ac7",
   "metadata": {},
   "source": [
    "The output can be saved to a list rather than an audio file:"
   ]
  },
  {
   "cell_type": "code",
   "execution_count": null,
   "id": "80ce4846",
   "metadata": {},
   "outputs": [],
   "source": [
    "gen=tts.tts(\"Some text\")\n",
    "type(gen)"
   ]
  },
  {
   "cell_type": "markdown",
   "id": "a6980bd8",
   "metadata": {},
   "source": [
    "TTS ignores anything it doesn't recognise, such as Greek letters and some mathematical symbols. It can also struggle with multi-digit numbers. It's best to write these out long-hand. Here is an example:"
   ]
  },
  {
   "cell_type": "code",
   "execution_count": null,
   "id": "7315232c",
   "metadata": {},
   "outputs": [],
   "source": [
    "OUTPUT_PATH = 'tts_lya.wav'\n",
    "tts.tts_to_file(text=\"The Lyman-α resonance is 1216 Å. The Lyman alpha resonance is twelve hundred and sixteen angstroms.\", file_path=OUTPUT_PATH)\n",
    "Audio(OUTPUT_PATH, autoplay=True)"
   ]
  },
  {
   "cell_type": "markdown",
   "id": "4ed97875",
   "metadata": {},
   "source": [
    "With any words or names that it struggles with, you can adjust the spelling to make it sound better. For instance the Italian name \"Chierchia\" can be spelled \"Kyerkia\" to get close to the correct pronunciation.\n",
    "\n",
    "Now let's try entering a caption:"
   ]
  },
  {
   "cell_type": "code",
   "execution_count": null,
   "id": "900a2687",
   "metadata": {},
   "outputs": [],
   "source": [
    "caption = input(\"Please enter your caption: \")"
   ]
  },
  {
   "cell_type": "code",
   "execution_count": null,
   "id": "960c2525",
   "metadata": {},
   "outputs": [],
   "source": [
    "OUTPUT_PATH = 'tts_caption.wav'\n",
    "tts.tts_to_file(text=caption, file_path=OUTPUT_PATH)\n",
    "Audio(OUTPUT_PATH, autoplay=True)"
   ]
  },
  {
   "cell_type": "markdown",
   "id": "332f1d87",
   "metadata": {},
   "source": [
    "## Sandbox"
   ]
  },
  {
   "cell_type": "code",
   "execution_count": null,
   "id": "eaac2513",
   "metadata": {},
   "outputs": [],
   "source": []
  }
 ],
 "metadata": {
  "kernelspec": {
   "display_name": "Python 3 (ipykernel)",
   "language": "python",
   "name": "python3"
  },
  "language_info": {
   "codemirror_mode": {
    "name": "ipython",
    "version": 3
   },
   "file_extension": ".py",
   "mimetype": "text/x-python",
   "name": "python",
   "nbconvert_exporter": "python",
   "pygments_lexer": "ipython3",
   "version": "3.10.9"
  }
 },
 "nbformat": 4,
 "nbformat_minor": 5
}
