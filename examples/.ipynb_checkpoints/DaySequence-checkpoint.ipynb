{
 "cells": [
  {
   "cell_type": "markdown",
   "id": "03b73a45",
   "metadata": {},
   "source": [
    "### <u> Generate the sunrise to sunset sonification used in the \"_Audible Universe_\" planetarium show </u>"
   ]
  },
  {
   "cell_type": "markdown",
   "id": "37f21355",
   "metadata": {},
   "source": [
    "**First, import relevant modules:**"
   ]
  },
  {
   "cell_type": "code",
   "execution_count": 1,
   "id": "f64e736a",
   "metadata": {},
   "outputs": [],
   "source": [
    "%matplotlib inline\n",
    "%reload_ext autoreload \n",
    "%autoreload 2\n",
    "import matplotlib.pyplot as plt\n",
    "import ffmpeg as ff\n",
    "import wavio as wav\n",
    "from strauss.sonification import Sonification\n",
    "from strauss.sources import Objects\n",
    "from strauss import channels\n",
    "from strauss.score import Score\n",
    "import numpy as np\n",
    "from strauss.generator import Sampler\n",
    "import IPython.display as ipd\n",
    "import glob\n",
    "import os\n",
    "import copy"
   ]
  },
  {
   "cell_type": "markdown",
   "id": "c4a3e9c2-e9e3-48ca-a21c-0ae64bb549f6",
   "metadata": {},
   "source": [
    "First we download the samples to the local data directory, if they haven't been already:"
   ]
  },
  {
   "cell_type": "code",
   "execution_count": 2,
   "id": "119cfefd-fe2d-4527-a9e3-6591709d5b89",
   "metadata": {
    "tags": []
   },
   "outputs": [
    {
     "name": "stdout",
     "output_type": "stream",
     "text": [
      "Downloading files...\n",
      "\t getting sun_A4.wav\n",
      "\t getting scatter_B4.wav\n",
      "Done.\n"
     ]
    }
   ],
   "source": [
    "outdir = \"../data/samples/day_sequence/\"\n",
    "\n",
    "if glob.glob(f\"{outdir}/*.wav\"):\n",
    "    print(f\"Directory {outdir} already exists.\")\n",
    "else:\n",
    "    print(\"Downloading files...\")\n",
    "    import urllib.request\n",
    "    import os\n",
    "    \n",
    "    path = os.path.realpath('../data/samples/day_sequence/')\n",
    "    os.mkdir(path)\n",
    "    \n",
    "    files = (\"sun_A4.wav\", \"scatter_B4.wav\")\n",
    "    urls = (\"https://drive.google.com/uc?export=download&id=15D7xHEKtKppTvzzwECIq_0UGhifdhrEy\",\n",
    "            \"https://drive.google.com/uc?export=download&id=1bnhZ_kagtWMUkj1VtEE6vzQGfnYexQfL\")\n",
    "    for f, u in zip(files, urls):\n",
    "        with urllib.request.urlopen(u) as response, open(f\"{path}/{f}\", 'wb') as out_file:\n",
    "            print(f\"\\t getting {f}\")\n",
    "            data = response.read() # a `bytes` object\n",
    "            out_file.write(data)\n",
    "    print(\"Done.\")\n",
    "    "
   ]
  },
  {
   "cell_type": "markdown",
   "id": "5cb86230-36ec-482a-80b3-021e3a884a08",
   "metadata": {},
   "source": [
    "**Specify the audio system to use** _(use `'stereo'` by default but for the planetarium `'5.1'` is used)_"
   ]
  },
  {
   "cell_type": "code",
   "execution_count": 3,
   "id": "30fb2e77-c1a2-4904-834b-dd45735b6233",
   "metadata": {},
   "outputs": [],
   "source": [
    "# specify audio system (e.g. mono, stereo, 5.1, ...)\n",
    "system = \"stereo\""
   ]
  },
  {
   "cell_type": "markdown",
   "id": "384b28ac-038b-41f6-986a-d8f7c44a1edd",
   "metadata": {},
   "source": [
    "**Now, set-up the sampler:**"
   ]
  },
  {
   "cell_type": "code",
   "execution_count": 4,
   "id": "009d6c9a-fb4c-4cd9-a87d-ccae4f280d89",
   "metadata": {},
   "outputs": [],
   "source": [
    "# set up sampler\n",
    "sampler = Sampler(\"../data/samples/day_sequence\")\n",
    "sampler.modify_preset({'filter':'on'}) # want filtering on for sun altitude effect"
   ]
  },
  {
   "cell_type": "markdown",
   "id": "25eecae2-2a88-430c-bcd1-2eb2ff79e66b",
   "metadata": {},
   "source": [
    "**Set mapping limits of mapped quantities**"
   ]
  },
  {
   "cell_type": "code",
   "execution_count": 5,
   "id": "2e853faa-1c07-4af0-b4bd-dc4a07c750e7",
   "metadata": {},
   "outputs": [],
   "source": [
    "maplims =  {'phi': (0, 360),\n",
    "            'theta': (0, 180),\n",
    "            'pitch' : (0, 1),\n",
    "            'cutoff' : (0, 1),\n",
    "            'volume' : (0,1),\n",
    "            'time_evo' : (0,147)}"
   ]
  },
  {
   "cell_type": "markdown",
   "id": "95b9cdbc-126c-4ed4-a708-9e513481a0c7",
   "metadata": {},
   "source": [
    "**Initialise the score:**"
   ]
  },
  {
   "cell_type": "code",
   "execution_count": 6,
   "id": "8fa322ac-11e0-4800-b26d-088eb805b677",
   "metadata": {},
   "outputs": [],
   "source": [
    "# setup score\n",
    "score =  Score([['A4','B4']], 147)"
   ]
  },
  {
   "cell_type": "markdown",
   "id": "b7a7b7ed-6da8-4694-8aef-df00a7277d42",
   "metadata": {},
   "source": [
    "**Render sonification for specified planet...**"
   ]
  },
  {
   "cell_type": "code",
   "execution_count": null,
   "id": "7c92480b-345a-4212-883c-b9eded4060d5",
   "metadata": {},
   "outputs": [
    {
     "name": "stderr",
     "output_type": "stream",
     "text": [
      "\r",
      "  0%|                                                     | 0/1 [00:00<?, ?it/s]"
     ]
    }
   ],
   "source": [
    "data = {'phi': np.array([90,90, 0, 330, 240,240]),\n",
    "        'theta': np.array([45,45,0, 40, 0, 0]), # constant theta of 90 deg\n",
    "        'pitch': 1,     # constant pitch\n",
    "        'volume': np.ones(6),\n",
    "        'cutoff': np.array([0.5, 0.5, 1, 0.444, 0, 0]),\n",
    "        'time_evo': np.array([0, 33.5,45, 57.5, 72.5, 147])}\n",
    "\n",
    "# set up source\n",
    "events = Objects(maplims.keys())\n",
    "events.fromdict(data)\n",
    "events.apply_mapping_functions(map_lims=maplims)\n",
    "\n",
    "soni = Sonification(score, events, sampler, system)\n",
    "soni.render()"
   ]
  },
  {
   "cell_type": "markdown",
   "id": "171f4766-3a4d-49c1-b6b9-baf7260dec27",
   "metadata": {},
   "source": [
    "**Listen to and plot the waveforms from the sonification:**"
   ]
  },
  {
   "cell_type": "code",
   "execution_count": null,
   "id": "f16043be-dcf2-45e4-b0c4-f9dae8129dfa",
   "metadata": {},
   "outputs": [],
   "source": [
    "soni.notebook_display()"
   ]
  },
  {
   "cell_type": "code",
   "execution_count": null,
   "id": "7bed74fc-a506-47d7-aff1-0ea6e200bd8a",
   "metadata": {},
   "outputs": [],
   "source": [
    "data2 = {'phi': np.ones(8)*0,\n",
    "        'theta': np.zeros(8), # constant theta of 90 deg\n",
    "        'pitch': 1,     # constant pitch\n",
    "        'volume': np.array([0.2,0.2,0.4,0.2,0.1,0.03, 0.01, 0.]),\n",
    "        'cutoff': np.ones(8),\n",
    "        'time_evo': np.array([0, 33.5,45, 57.5, 72.5, 90, 100, 147])}\n",
    "\n",
    "# set up source\n",
    "events2 = Objects(maplims.keys())\n",
    "events2.fromdict(data2)\n",
    "events2.apply_mapping_functions(map_lims=maplims)\n",
    "\n",
    "sampler2 = copy.deepcopy(sampler)\n",
    "sampler2.samples['A4'] = sampler2.samples['B4']\n",
    "\n",
    "soni2 = Sonification(score, events2, sampler2, system)\n",
    "soni2.out_channels = soni.out_channels\n",
    "soni2.render()"
   ]
  },
  {
   "cell_type": "code",
   "execution_count": null,
   "id": "8eefb146-ef13-4b6a-bba3-500197413ffd",
   "metadata": {},
   "outputs": [],
   "source": [
    "soni2.notebook_display()"
   ]
  },
  {
   "cell_type": "markdown",
   "id": "14aae7e4-28fd-47bb-af1a-9a953370969c",
   "metadata": {},
   "source": [
    "**Combine and save sonification to a multi-channel wav** \n",
    "\n",
    "NOTE: Change `\"../../FILENAME.wav\"` to your filepath of choice. By default, the sound file is normalised to that of the highest amplitude sample, but can be set to a lower normalisation by setting the `master_volume` parameter to a value between `0.` and `1.`."
   ]
  },
  {
   "cell_type": "code",
   "execution_count": null,
   "id": "fd340486-4232-4eb6-848b-8d9580b41754",
   "metadata": {},
   "outputs": [],
   "source": [
    "soni2.save_combined(\"../../day_sequence.wav\", True, master_volume=1.0)"
   ]
  },
  {
   "cell_type": "code",
   "execution_count": null,
   "id": "2175aafe-20f2-4877-b5f4-111665b64953",
   "metadata": {},
   "outputs": [],
   "source": []
  }
 ],
 "metadata": {
  "kernelspec": {
   "display_name": "Python 3 (ipykernel)",
   "language": "python",
   "name": "python3"
  },
  "language_info": {
   "codemirror_mode": {
    "name": "ipython",
    "version": 3
   },
   "file_extension": ".py",
   "mimetype": "text/x-python",
   "name": "python",
   "nbconvert_exporter": "python",
   "pygments_lexer": "ipython3",
   "version": "3.10.6"
  }
 },
 "nbformat": 4,
 "nbformat_minor": 5
}
