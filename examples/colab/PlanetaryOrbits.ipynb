{
 "cells": [
  {
   "cell_type": "markdown",
   "id": "0a5bce6e-07eb-45db-88d5-d976688038c9",
   "metadata": {},
   "source": [
    "#### Preamble for `CoLab` "
   ]
  },
  {
   "cell_type": "markdown",
   "id": "fb1ea44a-1945-463e-a116-a6026a5572ca",
   "metadata": {},
   "source": [
    "To use this notebook (if you haven't already) you can first save a copy to your local drive by clicking `File > Save a Copy in Drive` and run on that copy."
   ]
  },
  {
   "cell_type": "markdown",
   "id": "77d1cbbe-ccad-40a6-99eb-e8d3eeb066ed",
   "metadata": {},
   "source": [
    "_Note_: `Colab` is a really handy way to test and try `strauss`, though it will generally run and display audio more slowly than running on your local machine. For a more responsive experience, why not install `strauss` locally, following the instructions [on the Github](https://github.com/james-trayford/strauss)"
   ]
  },
  {
   "cell_type": "markdown",
   "id": "a0a629a8-7a3b-4e1d-9e58-8c424d1790b7",
   "metadata": {},
   "source": [
    "Run these cells, so that the notebook functions on the _Google_ `Colab` platform:"
   ]
  },
  {
   "cell_type": "code",
   "execution_count": null,
   "id": "4a8cdc29-a0f9-4f14-992a-3d16e8f386d5",
   "metadata": {},
   "outputs": [],
   "source": [
    "%pip --quiet install strauss"
   ]
  },
  {
   "cell_type": "code",
   "execution_count": null,
   "id": "547bb5a0-09c5-47c2-a410-855692c25e18",
   "metadata": {},
   "outputs": [],
   "source": [
    "!git clone https://github.com/james-trayford/strauss.git"
   ]
  },
  {
   "cell_type": "code",
   "execution_count": null,
   "id": "049d260d-eaeb-43f0-856e-ed959dead7b4",
   "metadata": {},
   "outputs": [],
   "source": [
    "%cd strauss/examples/"
   ]
  },
  {
   "cell_type": "markdown",
   "id": "03b73a45",
   "metadata": {},
   "source": [
    "### <u> Generate the Planetary Orbit sonifications used in the \"_Audible Universe_\" planetarium show </u>"
   ]
  },
  {
   "cell_type": "markdown",
   "id": "37f21355",
   "metadata": {},
   "source": [
    "**First, import relevant modules:**"
   ]
  },
  {
   "cell_type": "code",
   "execution_count": null,
   "id": "f64e736a",
   "metadata": {},
   "outputs": [],
   "source": [
    "%reload_ext autoreload \n",
    "%autoreload 2\n",
    "%matplotlib inline\n",
    "import matplotlib.pyplot as plt\n",
    "import ffmpeg as ff\n",
    "import wavio as wav\n",
    "from strauss.sonification import Sonification\n",
    "from strauss.sources import Objects\n",
    "from strauss import channels\n",
    "from strauss.score import Score\n",
    "import numpy as np\n",
    "from strauss.generator import Sampler\n",
    "import IPython.display as ipd\n",
    "import os"
   ]
  },
  {
   "cell_type": "markdown",
   "id": "c4a3e9c2-e9e3-48ca-a21c-0ae64bb549f6",
   "metadata": {},
   "source": [
    "**Collate the notes we are using to represent each planet and their orbital periods, as well as the length of each sonification**\n",
    "\n",
    "Then, combine these into dictionaries so they can be easily indexed"
   ]
  },
  {
   "cell_type": "code",
   "execution_count": null,
   "id": "1f14379b",
   "metadata": {},
   "outputs": [],
   "source": [
    "# planet names\n",
    "planets = ['Mercury',\n",
    "          'Venus',\n",
    "          'Earth',\n",
    "          'Mars',\n",
    "          'Jupiter',\n",
    "          'Saturn',\n",
    "          'Uranus',\n",
    "          'Neptune']\n",
    "\n",
    "# notes representing each planet\n",
    "notes = [[['F6']],\n",
    "         [['Bb5']],\n",
    "         [['Gb5']],\n",
    "         [['Db6']],\n",
    "         [['Gb2']],\n",
    "         [['Bb2']],\n",
    "         [['Bb3']],\n",
    "         [['F3']]]\n",
    "\n",
    "# orbital period of each planet in days\n",
    "periods = np.array([88,\n",
    "                     224.7,\n",
    "                     365.2,\n",
    "                     687,\n",
    "                     4331,\n",
    "                     10747,\n",
    "                     30589,\n",
    "                     59800])\n",
    "\n",
    "# sonification lengths for each planet\n",
    "lengths = [126]*4 + [84]*4\n",
    "\n",
    "# put these into dictionaries\n",
    "chorddict = dict(zip(planets,notes))\n",
    "lendict = dict(zip(planets, lengths))\n",
    "perioddict = dict(zip(planets,periods*(lendict['Neptune']/(0.75 * periods[-1]))))"
   ]
  },
  {
   "cell_type": "markdown",
   "id": "5cb86230-36ec-482a-80b3-021e3a884a08",
   "metadata": {},
   "source": [
    "**Specify the audio system to use** _(use `'stereo'` by default but for the planetarium `'5.1'` is used)_"
   ]
  },
  {
   "cell_type": "code",
   "execution_count": null,
   "id": "30fb2e77-c1a2-4904-834b-dd45735b6233",
   "metadata": {},
   "outputs": [],
   "source": [
    "# specify audio system (e.g. mono, stereo, 5.1, ...)\n",
    "system = \"stereo\""
   ]
  },
  {
   "cell_type": "markdown",
   "id": "384b28ac-038b-41f6-986a-d8f7c44a1edd",
   "metadata": {},
   "source": [
    "**Now, set-up the sampler and the mapping functions and limits of mapped quantities**"
   ]
  },
  {
   "cell_type": "code",
   "execution_count": null,
   "id": "009d6c9a-fb4c-4cd9-a87d-ccae4f280d89",
   "metadata": {},
   "outputs": [],
   "source": [
    "# set up sampler\n",
    "sampler = Sampler(\"../data/samples/solar_system\")\n",
    "\n",
    "# we want to loop the orchestral samples\n",
    "sampler.modify_preset({'looping':'forward', # looping style\n",
    "                       'loop_start': 7.0, # start of loop in seconds\n",
    "                       'loop_end': 9.4}) # end of loop in seconds\n",
    "\n",
    "# mapping functions and their limits\n",
    "mapvals =  {'azimuth': lambda x : x,\n",
    "            'polar': lambda x : x,\n",
    "            'pitch' : lambda x: x,\n",
    "            'volume' : lambda x : x,\n",
    "           'time_evo' : lambda x : x}\n",
    "\n",
    "maplims =  {'azimuth': (0, 360),\n",
    "            'polar': (0, 180),\n",
    "            'pitch' : (0, 1),\n",
    "            'volume' : (0, 1),\n",
    "           'time_evo' : (0,1)}"
   ]
  },
  {
   "cell_type": "markdown",
   "id": "95b9cdbc-126c-4ed4-a708-9e513481a0c7",
   "metadata": {},
   "source": [
    "**Specify which planet you want to sonify:**"
   ]
  },
  {
   "cell_type": "code",
   "execution_count": null,
   "id": "8fa322ac-11e0-4800-b26d-088eb805b677",
   "metadata": {},
   "outputs": [],
   "source": [
    "# modify these for each planet\n",
    "planet = \"Venus\"\n",
    "panphase = 0"
   ]
  },
  {
   "cell_type": "markdown",
   "id": "b7a7b7ed-6da8-4694-8aef-df00a7277d42",
   "metadata": {},
   "source": [
    "**Render sonification for specified planet...**"
   ]
  },
  {
   "cell_type": "code",
   "execution_count": null,
   "id": "7c92480b-345a-4212-883c-b9eded4060d5",
   "metadata": {},
   "outputs": [],
   "source": [
    "# volume swell is directly ahead\n",
    "volphase = panphase + 90\n",
    "\n",
    "# setup score\n",
    "score =  Score(chorddict[planet], lendict[planet])\n",
    "\n",
    "# data dict\n",
    "n = 10000\n",
    "orbits_per_sonification = lendict[planet]/perioddict[planet]\n",
    "orbital_azimuth = (np.linspace(0,orbits_per_sonification,n)%1)*360\n",
    "data = {'azimuth':orbital_azimuth + panphase,\n",
    "        'polar':np.ones(n)*90., # constant polar of 90 deg\n",
    "        'pitch':1,     # constant pitch\n",
    "        'volume':np.sin((orbital_azimuth + volphase) * np.pi/180.)*0.4+0.6,\n",
    "        'time_evo': np.linspace(0,1,n)\n",
    "        }\n",
    "\n",
    "# set up source\n",
    "sources = Objects(mapvals.keys())\n",
    "sources.fromdict(data)\n",
    "sources.apply_mapping_functions(mapvals, maplims)\n",
    "\n",
    "soni = Sonification(score, sources, sampler, system)\n",
    "soni.render()"
   ]
  },
  {
   "cell_type": "markdown",
   "id": "171f4766-3a4d-49c1-b6b9-baf7260dec27",
   "metadata": {},
   "source": [
    "**Listen to and plot the waveforms from the sonification:**"
   ]
  },
  {
   "cell_type": "code",
   "execution_count": null,
   "id": "97dd6b8c",
   "metadata": {},
   "outputs": [],
   "source": [
    "soni.notebook_display()"
   ]
  },
  {
   "cell_type": "markdown",
   "id": "14aae7e4-28fd-47bb-af1a-9a953370969c",
   "metadata": {},
   "source": [
    "**Combine and save sonification to a multi-channel wav** \n",
    "\n",
    "NOTE: Change `\"../../FILENAME.wav\"` to your filepath of choice. By default, the sound file is normalised to that of the highest amplitude sample, but can be set to a lower normalisation by setting the `master_volume` parameter to a value between `0.` and `1.`."
   ]
  },
  {
   "cell_type": "code",
   "execution_count": null,
   "id": "7bed74fc-a506-47d7-aff1-0ea6e200bd8a",
   "metadata": {},
   "outputs": [],
   "source": [
    "soni.save(\"../../FILENAME.wav\", master_volume=1.0)"
   ]
  }
 ],
 "metadata": {
  "kernelspec": {
   "display_name": "Python 3 (ipykernel)",
   "language": "python",
   "name": "python3"
  },
  "language_info": {
   "codemirror_mode": {
    "name": "ipython",
    "version": 3
   },
   "file_extension": ".py",
   "mimetype": "text/x-python",
   "name": "python",
   "nbconvert_exporter": "python",
   "pygments_lexer": "ipython3",
   "version": "3.11.9"
  }
 },
 "nbformat": 4,
 "nbformat_minor": 5
}
