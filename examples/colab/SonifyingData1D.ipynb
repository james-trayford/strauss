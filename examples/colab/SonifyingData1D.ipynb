{
 "cells": [
  {
   "cell_type": "markdown",
   "id": "5efc5896-d203-4714-b1b9-596f14793267",
   "metadata": {},
   "source": [
    "#### Preamble for `CoLab` "
   ]
  },
  {
   "cell_type": "markdown",
   "id": "47ab8460-faf2-467a-af4f-19d7a3137d26",
   "metadata": {},
   "source": [
    "To use this notebook (if you haven't already) you can first save a copy to your local drive by clicking `File > Save a Copy in Drive` and run on that copy."
   ]
  },
  {
   "cell_type": "markdown",
   "id": "8e49d7d5-7a4d-4b3e-ba96-4277c96c8088",
   "metadata": {},
   "source": [
    "_Note_: `Colab` is a really handy way to test and try `strauss`, though it will generally run and display audio more slowly than running on your local machine. For a more responsive experience, why not install `strauss` locally, following the instructions [on the Github](https://github.com/james-trayford/strauss)"
   ]
  },
  {
   "cell_type": "markdown",
   "id": "8e0421e2-762d-4455-bca8-4b415fa5a122",
   "metadata": {},
   "source": [
    "Run these cells, so that the notebook functions on the _Google_ `Colab` platform:"
   ]
  },
  {
   "cell_type": "code",
   "execution_count": null,
   "id": "a613055f-b05a-40ce-a925-282f7eeb5314",
   "metadata": {},
   "outputs": [],
   "source": [
    "%pip --quiet install strauss"
   ]
  },
  {
   "cell_type": "code",
   "execution_count": null,
   "id": "579f7dac-1296-419a-afdc-9cd408b7dc54",
   "metadata": {},
   "outputs": [],
   "source": [
    "!git clone https://github.com/james-trayford/strauss.git"
   ]
  },
  {
   "cell_type": "code",
   "execution_count": null,
   "id": "fa5d611b-1ea2-402a-ba6e-b9102a8814b3",
   "metadata": {},
   "outputs": [],
   "source": [
    "%cd strauss/examples/"
   ]
  },
  {
   "cell_type": "markdown",
   "id": "03b73a45",
   "metadata": {},
   "source": [
    "## <u> Demonstrate some generic techniques for sonifying 1D data:</u>"
   ]
  },
  {
   "cell_type": "markdown",
   "id": "37f21355",
   "metadata": {},
   "source": [
    "**First, import relevant modules:**"
   ]
  },
  {
   "cell_type": "code",
   "execution_count": null,
   "id": "f64e736a",
   "metadata": {},
   "outputs": [],
   "source": [
    "%reload_ext autoreload \n",
    "%autoreload 2\n",
    "%matplotlib inline\n",
    "import matplotlib.pyplot as plt\n",
    "from strauss.sonification import Sonification\n",
    "from strauss.sources import Objects\n",
    "from strauss import channels\n",
    "from strauss.score import Score\n",
    "from strauss.generator import Synthesizer\n",
    "import IPython.display as ipd\n",
    "import os\n",
    "from scipy.interpolate import interp1d\n",
    "import numpy as np"
   ]
  },
  {
   "cell_type": "markdown",
   "id": "c4a3e9c2-e9e3-48ca-a21c-0ae64bb549f6",
   "metadata": {},
   "source": [
    "**Now, we construct some mock data!**\n",
    "\n",
    "We use seeded random numbers to generate a mock 1D data set with features and noise:"
   ]
  },
  {
   "cell_type": "code",
   "execution_count": null,
   "id": "fbf7b1b5-79b7-4a2a-a8e9-15f196a15ca6",
   "metadata": {
    "tags": []
   },
   "outputs": [],
   "source": [
    "# seed the randoms...\n",
    "np.random.seed(0)\n",
    "\n",
    "# construct arrays of size N for x and y...\n",
    "N = 300\n",
    "x = np.linspace(0,1,N)\n",
    "y = np.zeros(N)\n",
    "\n",
    "# define a Gaussian function...\n",
    "gauss = lambda x, m, s: np.exp(-(x-m)**2/s) \n",
    "\n",
    "# place some randomised gaussians...\n",
    "for i in range(10):\n",
    "    a,b,c = np.random.random(3)\n",
    "    y += gauss(x, b, 1e-3*c) * a ** 3\n",
    "\n",
    "# now add some noise and normalise\n",
    "y += np.random.random(N) * y.mean()\n",
    "y /= y.max()*1.2\n",
    "y += 0.15\n",
    "\n",
    "\n",
    "plt.plot(x,y)\n",
    "plt.ylabel('Some dependent Variable')\n",
    "plt.xlabel('Some independent Variable')"
   ]
  },
  {
   "cell_type": "markdown",
   "id": "d0f6edf6-59bf-4bdc-a9e7-c7f097cd08d3",
   "metadata": {},
   "source": [
    "**Set up some universal sonification parameters and classes for the examples below**\n",
    "\n",
    "For all examples we use the `Synthesizer` generator to create a 30 second, mono sonification."
   ]
  },
  {
   "cell_type": "code",
   "execution_count": null,
   "id": "009d6c9a-fb4c-4cd9-a87d-ccae4f280d89",
   "metadata": {},
   "outputs": [],
   "source": [
    "# specify audio system (e.g. mono, stereo, 5.1, ...)\n",
    "system = \"stereo\"\n",
    "\n",
    "# length of the sonification in s\n",
    "length = 15.\n",
    "\n",
    "# set up synth and turn on LP filter\n",
    "generator = Synthesizer()\n",
    "generator.load_preset('pitch_mapper')\n",
    "generator.preset_details('pitch_mapper')"
   ]
  },
  {
   "cell_type": "markdown",
   "id": "b7a7b7ed-6da8-4694-8aef-df00a7277d42",
   "metadata": {},
   "source": [
    "### <u>Example 1</u> &nbsp; **Pitch Mapping**"
   ]
  },
  {
   "cell_type": "code",
   "execution_count": null,
   "id": "7c92480b-345a-4212-883c-b9eded4060d5",
   "metadata": {},
   "outputs": [],
   "source": [
    "notes = [[\"A2\"]]\n",
    "score =  Score(notes, length)\n",
    "\n",
    "data = {'pitch':1.,\n",
    "        'time_evo':x,\n",
    "        'azimuth':(x*0.5+0.25) % 1,\n",
    "        'polar':0.5,\n",
    "        'pitch_shift':y**0.7}\n",
    "\n",
    "# set up source\n",
    "sources = Objects(data.keys())\n",
    "sources.fromdict(data)\n",
    "sources.apply_mapping_functions()\n",
    "\n",
    "soni = Sonification(score, sources, generator, system)\n",
    "soni.render()\n",
    "soni.notebook_display()"
   ]
  },
  {
   "cell_type": "markdown",
   "id": "285b12a8-ef64-49f9-a851-b011bde05e29",
   "metadata": {},
   "source": [
    "### <u>Example 2</u> &nbsp; **Volume Mapping**"
   ]
  },
  {
   "cell_type": "code",
   "execution_count": null,
   "id": "7bed74fc-a506-47d7-aff1-0ea6e200bd8a",
   "metadata": {},
   "outputs": [],
   "source": [
    "notes = [[\"A2\"]]\n",
    "score =  Score(notes, length)\n",
    "\n",
    "data = {'pitch':1.,\n",
    "        'time_evo':x,\n",
    "        'azimuth':(x*0.5+0.25) % 1,\n",
    "        'polar':0.5,\n",
    "        'volume':y**0.7}\n",
    "\n",
    "# set up source\n",
    "sources = Objects(data.keys())\n",
    "sources.fromdict(data)\n",
    "sources.apply_mapping_functions()\n",
    "\n",
    "soni = Sonification(score, sources, generator, system)\n",
    "soni.render()\n",
    "soni.notebook_display()"
   ]
  },
  {
   "cell_type": "markdown",
   "id": "25f17dd1-fe8c-4b61-8a15-4a3cedb646b4",
   "metadata": {},
   "source": [
    "### <u>Example 3</u> &nbsp; **Filter Cutoff Mapping**"
   ]
  },
  {
   "cell_type": "code",
   "execution_count": null,
   "id": "a1efde9b-c4c9-4c0f-b4c5-9d32a2098fb1",
   "metadata": {},
   "outputs": [],
   "source": [
    "generator = Synthesizer()\n",
    "generator.modify_preset({'filter':'on'})"
   ]
  },
  {
   "cell_type": "code",
   "execution_count": null,
   "id": "a583f3bd-b57b-4448-8cf2-d30de234a3bd",
   "metadata": {},
   "outputs": [],
   "source": [
    "notes = [[\"C2\",\"G2\",\"C3\",\"G3\"]]\n",
    "score =  Score(notes, length)\n",
    "\n",
    "data = {'pitch':[0,1,2,3],\n",
    "        'time_evo':[x]*4,\n",
    "        'azimuth':[(x*0.5+0.25) % 1]*4,\n",
    "        'polar':[0.5]*4,\n",
    "        'cutoff':[y**0.8]*4}\n",
    "\n",
    "# set up source\n",
    "sources = Objects(data.keys())\n",
    "sources.fromdict(data)\n",
    "sources.apply_mapping_functions()\n",
    "\n",
    "soni = Sonification(score, sources, generator, system)\n",
    "soni.render()\n",
    "soni.notebook_display()"
   ]
  },
  {
   "cell_type": "code",
   "execution_count": null,
   "id": "17785113-03f2-4f3a-824c-9c3d93ed1530",
   "metadata": {},
   "outputs": [],
   "source": [
    "generator = Synthesizer()\n",
    "generator.load_preset('windy')"
   ]
  },
  {
   "cell_type": "code",
   "execution_count": null,
   "id": "d001083d-e5d8-4308-bcc2-f775d963395a",
   "metadata": {},
   "outputs": [],
   "source": [
    "data = {'pitch':[0,1,2,3],\n",
    "        'time_evo':[x],\n",
    "        'azimuth':[(x*0.5+0.25) % 1],\n",
    "        'polar':[0.5],\n",
    "        'cutoff':[y**0.8]}\n",
    "sources = Objects(data.keys())\n",
    "sources.fromdict(data)\n",
    "sources.apply_mapping_functions()\n",
    "\n",
    "soni = Sonification(score, sources, generator, system)\n",
    "soni.render()\n",
    "soni.notebook_display()"
   ]
  },
  {
   "cell_type": "code",
   "execution_count": null,
   "id": "2683fbc8-158e-4fce-a5b3-d908763d3e7a",
   "metadata": {},
   "outputs": [],
   "source": []
  },
  {
   "cell_type": "code",
   "execution_count": null,
   "id": "99b3f3bf-444f-40d1-b540-9316d3f505a5",
   "metadata": {},
   "outputs": [],
   "source": []
  }
 ],
 "metadata": {
  "kernelspec": {
   "display_name": "Python 3 (ipykernel)",
   "language": "python",
   "name": "python3"
  },
  "language_info": {
   "codemirror_mode": {
    "name": "ipython",
    "version": 3
   },
   "file_extension": ".py",
   "mimetype": "text/x-python",
   "name": "python",
   "nbconvert_exporter": "python",
   "pygments_lexer": "ipython3",
   "version": "3.11.9"
  }
 },
 "nbformat": 4,
 "nbformat_minor": 5
}
