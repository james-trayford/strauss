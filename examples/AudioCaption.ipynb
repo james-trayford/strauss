{
 "cells": [
  {
   "cell_type": "markdown",
   "id": "e5498e86-ef19-4ce0-b348-e731c7ef251c",
   "metadata": {},
   "source": [
    "### <u> Generate a sonification with an audio caption in `strauss` </u>\n",
    "Import the relevant modules:\n",
    "\n",
    "***Note***: you will need to have some form of python text-to-speech installed (`TTS` or `pyttsx3`) for these examples to work. See the error raised when trying to run the examples below for more info:"
   ]
  },
  {
   "cell_type": "code",
   "execution_count": null,
   "id": "2ebc7e44-2cc4-4106-a5fe-3d01f49bb8f1",
   "metadata": {},
   "outputs": [],
   "source": [
    "%reload_ext autoreload \n",
    "%autoreload 2\n",
    "from strauss.sonification import Sonification\n",
    "from strauss.sources import Events\n",
    "from strauss import channels\n",
    "from strauss.score import Score\n",
    "from strauss.tts_caption import render_caption\n",
    "import numpy as np\n",
    "from strauss.generator import Sampler\n",
    "import os\n",
    "from pathlib import Path\n",
    "import strauss\n",
    "%matplotlib inline\n",
    "\n",
    "mode = strauss.tts_caption.ttsMode"
   ]
  },
  {
   "cell_type": "markdown",
   "id": "226f3af8-eea8-4f8e-b537-bda602e1418d",
   "metadata": {},
   "source": [
    "What text to speech do we have?"
   ]
  },
  {
   "cell_type": "code",
   "execution_count": null,
   "id": "ffe715e8-d5aa-487d-a125-0e17a6a01958",
   "metadata": {},
   "outputs": [],
   "source": [
    "print(f\"Available text-to-speech (TTS) is: {mode}\")"
   ]
  },
  {
   "cell_type": "markdown",
   "id": "97964d85-d186-4799-ba11-662f92b935fc",
   "metadata": {},
   "source": [
    "Generate a placeholder sonification (a short sequence of glockenspiel notes) that we may want to add a caption to:"
   ]
  },
  {
   "cell_type": "code",
   "execution_count": null,
   "id": "6c6e8f4c-e8d7-491b-b264-bf77d28f70d1",
   "metadata": {},
   "outputs": [],
   "source": [
    "# platform agnostic absolute path for samples...\n",
    "strauss_dir = Path(strauss.__file__).parents[2]\n",
    "sample_path = Path(strauss_dir, 'data','samples','glockenspiels')\n",
    "# setup used in stars appearing example\n",
    "chords = [['Db3','Gb3', 'Ab3', 'Eb4','F4']]\n",
    "length = 6\n",
    "system = 'stereo'\n",
    "score =  Score(chords, length)\n",
    "\n",
    "maplims =  {'time': ('0', '150'),\n",
    "            'pitch' : ('0', '100'),\n",
    "           'phi':('0','100'),\n",
    "            'theta':('0','100')}\n",
    "\n",
    "events = Events(maplims.keys())\n",
    "\n",
    "data = {'pitch':np.arange(5),\n",
    "        'time':np.arange(5),\n",
    "       'phi': np.arange(5),\n",
    "       'theta': np.arange(5)}\n",
    "\n",
    "\n",
    "generator = Sampler(Path(sample_path))\n",
    "\n",
    "events.fromdict(data)\n",
    "events.apply_mapping_functions(map_lims=maplims)"
   ]
  },
  {
   "cell_type": "markdown",
   "id": "ce448cfd-bd92-49d1-9c1d-c3c4d6252383",
   "metadata": {},
   "source": [
    "Now, lets look at the avaialble voices for our TTS engine:"
   ]
  },
  {
   "cell_type": "code",
   "execution_count": null,
   "id": "e50a986e-5c51-4d1a-aea5-99f3161cdd9b",
   "metadata": {},
   "outputs": [],
   "source": [
    "from strauss.tts_caption import TTS\n",
    "voices = TTS().list_models()"
   ]
  },
  {
   "cell_type": "markdown",
   "id": "b7d1566f-ff8c-4e21-8ceb-f743394fa4a5",
   "metadata": {},
   "source": [
    "Generate text-to-speech (TTS) for the caption, using the default choice of voice (`\"Jenny\"` for the `coqui-tts` module, OS default for `pyttsx3`)"
   ]
  },
  {
   "cell_type": "code",
   "execution_count": null,
   "id": "68b04f22-2f43-4ba6-9c8b-4ed35b31a983",
   "metadata": {},
   "outputs": [],
   "source": [
    "caption_en = 'In the following audio, a glockenspiel is used to represent stars of varying colour.'\n",
    "\n",
    "soni = Sonification(score, events, generator, system,\n",
    "                    caption=caption_en)\n",
    "soni.render()\n",
    "soni.notebook_display(show_waveform=0)"
   ]
  },
  {
   "cell_type": "code",
   "execution_count": null,
   "id": "7cf1c196-810c-433f-b901-0e59ed97f299",
   "metadata": {},
   "outputs": [],
   "source": [
    "caption_en = 'In the following audio, a glockenspiel is used to represent stars of varying colour.'\n",
    "\n",
    "if mode == 'coqui-tts':\n",
    "    soni = Sonification(score, events, generator, system,\n",
    "                        caption=caption_en,\n",
    "                       ttsmodel=str(Path('tts_models', 'en', 'ljspeech', 'tacotron2-DDC')))\n",
    "elif mode == 'pyttsx3':\n",
    "    for v in voices[::-1]:\n",
    "        #print(v.languages[0][:2])\n",
    "        if v.languages[0][:2] == 'en':\n",
    "            break\n",
    "    print(f\"Selected voice: {v.name}\")\n",
    "    soni = Sonification(score, events, generator, system,\n",
    "                        caption=caption_en,\n",
    "                       ttsmodel={'voice':v.id,\n",
    "                                 # we can also set a rate for pyttsx3 (int16)...\n",
    "                                'rate': 217})\n",
    "\n",
    "soni.render()\n",
    "soni.notebook_display(show_waveform=False)"
   ]
  },
  {
   "cell_type": "markdown",
   "id": "f62aa36e-43f5-4bf8-947d-5d79b37f7256",
   "metadata": {},
   "source": [
    "Other TTS models are available in several languages. We can demonstrate a German voice, for example"
   ]
  },
  {
   "cell_type": "code",
   "execution_count": null,
   "id": "948bda34-99bf-4db3-95b9-0a23e28088ad",
   "metadata": {},
   "outputs": [],
   "source": [
    "caption_de = \"In der folgenden Tonspur wird ein Glockenspiel verwendet um Sterne mit unterschiedlichen Farben zu repräsentieren.\"\n",
    "\n",
    "if mode == 'coqui-tts':\n",
    "    soni = Sonification(score, events, generator, system,\n",
    "                        caption=caption_de, \n",
    "                        ttsmodel=str(Path('tts_models', 'de', 'thorsten', 'vits')))\n",
    "elif mode == 'pyttsx3':\n",
    "    # find a German-language voice...\n",
    "    for v in voices:\n",
    "        if v.languages[0][:2] == 'de':\n",
    "            break\n",
    "    soni = Sonification(score, events, generator, system,\n",
    "                        caption=caption_de,\n",
    "                        ttsmodel={'voice':v.id})\n",
    "\n",
    "soni.render()\n",
    "soni.notebook_display(show_waveform=False)"
   ]
  },
  {
   "cell_type": "markdown",
   "id": "ff8db018-02e3-48c2-a043-6ba132c1e239",
   "metadata": {},
   "source": [
    "**Note**: the AI-based `TTS` can behave unpredictably when using unrecognised characters or terms. Sometimes these will be mispronounced by the TTS, other times they could be skipped entirely. This can be circumvented by writing out the how symbols should be pronounced, or spelling phonetically to improve pronunciation:"
   ]
  },
  {
   "cell_type": "code",
   "execution_count": null,
   "id": "8fe89982-2b1f-4339-a789-63f20b5f6ebb",
   "metadata": {},
   "outputs": [],
   "source": [
    "symbol_examples_en = 'The Lyman-α resonance is 1216 Å. The Lyman alpha resonance is twelve hundred and sixteen angstroms. '\n",
    "\n",
    "for v in voices[::-1]:\n",
    "        #print(v.languages[0][:2])\n",
    "        if v.languages[0][:2] == 'en':\n",
    "            break\n",
    "                       \n",
    "soni = Sonification(score, events, generator, system,\n",
    "                    caption=symbol_examples_en, ttsmodel={'voice':v.id, 'rate': 217})\n",
    "\n",
    "soni.render()\n",
    "soni.notebook_display(show_waveform=0)"
   ]
  },
  {
   "cell_type": "code",
   "execution_count": null,
   "id": "f706e822-d989-4b2a-b834-b1565548349d",
   "metadata": {},
   "outputs": [],
   "source": []
  }
 ],
 "metadata": {
  "kernelspec": {
   "display_name": "Python 3 (ipykernel)",
   "language": "python",
   "name": "python3"
  },
  "language_info": {
   "codemirror_mode": {
    "name": "ipython",
    "version": 3
   },
   "file_extension": ".py",
   "mimetype": "text/x-python",
   "name": "python",
   "nbconvert_exporter": "python",
   "pygments_lexer": "ipython3",
   "version": "3.8.20"
  }
 },
 "nbformat": 4,
 "nbformat_minor": 5
}
