{
 "cells": [
  {
   "cell_type": "code",
   "execution_count": 1,
   "id": "c953865f",
   "metadata": {
    "tags": []
   },
   "outputs": [],
   "source": [
    "%matplotlib inline\n",
    "%reload_ext autoreload \n",
    "%autoreload 2\n",
    "from strauss.sonification import Sonification\n",
    "from strauss.sources import Events\n",
    "from strauss import channels\n",
    "from strauss.score import Score\n",
    "import numpy as np\n",
    "from strauss.generator import Sampler"
   ]
  },
  {
   "cell_type": "code",
   "execution_count": null,
   "id": "c5bf6bff",
   "metadata": {
    "tags": []
   },
   "outputs": [],
   "source": [
    "# setup used in stars appearing example\n",
    "\n",
    "chords = [['Db3','Gb3', 'Ab3', 'Eb4','F4']]\n",
    "length = 4\n",
    "system = 'mono'\n",
    "score =  Score(chords, length)\n",
    "\n",
    "maplims =  {'time': ('0', '150'),\n",
    "            'pitch' : ('0', '100'),\n",
    "           'phi':('0','100'),\n",
    "            'theta':('0','100')}\n",
    "\n",
    "events = Events(maplims.keys())\n",
    "\n",
    "data = {'pitch':np.arange(5),\n",
    "        'time':np.arange(5),\n",
    "       'phi': np.arange(5),\n",
    "       'theta': np.arange(5)}\n",
    "\n",
    "\n",
    "generator = Sampler(\"/home/youless/strauss/data/samples/glockenspiels\")\n",
    "\n",
    "events.fromdict(data)\n",
    "events.apply_mapping_functions(map_lims=maplims)"
   ]
  },
  {
   "cell_type": "code",
   "execution_count": null,
   "id": "0b2a4ec5",
   "metadata": {},
   "outputs": [],
   "source": [
    "# render at default 48 kHz rate\n",
    "soni = Sonification(score, events, generator, system)\n",
    "soni.render()\n",
    "soni.notebook_display()"
   ]
  },
  {
   "cell_type": "code",
   "execution_count": null,
   "id": "e7966231",
   "metadata": {},
   "outputs": [],
   "source": [
    "# now at 44.1 kHz - these should sound the same with correct behaviour\n",
    "generator = Sampler(\"../../data/samples/glockenspiels\", samprate=44100)\n",
    "soni = Sonification(score, events, generator, system, samprate=44100)\n",
    "soni.render()\n",
    "soni.notebook_display()"
   ]
  },
  {
   "cell_type": "code",
   "execution_count": 10,
   "id": "d924ac3c-2032-4a2c-952f-b8144db4a068",
   "metadata": {
    "tags": []
   },
   "outputs": [
    {
     "data": {
      "text/plain": [
       "['/home/youless/strauss/data/samples/glockenspiels/glockenspiel_Db3.wav',\n",
       " '/home/youless/strauss/data/samples/glockenspiels/glockenspiel_Gb3.wav',\n",
       " '/home/youless/strauss/data/samples/glockenspiels/glockenspiel_F5.wav',\n",
       " '/home/youless/strauss/data/samples/glockenspiels/glockenspiel_Ab3.wav',\n",
       " '/home/youless/strauss/data/samples/glockenspiels/glockenspiel_Gb4.wav',\n",
       " '/home/youless/strauss/data/samples/glockenspiels/glockenspiel_F4.wav',\n",
       " '/home/youless/strauss/data/samples/glockenspiels/glockenspiel_Db4.wav',\n",
       " '/home/youless/strauss/data/samples/glockenspiels/glockenspiel_Eb4.wav',\n",
       " '/home/youless/strauss/data/samples/glockenspiels/glockenspiel_Eb5.wav',\n",
       " '/home/youless/strauss/data/samples/glockenspiels/glockenspiel_Ab4.wav']"
      ]
     },
     "execution_count": 10,
     "metadata": {},
     "output_type": "execute_result"
    }
   ],
   "source": [
    "import glob\n",
    "glob.glob('/home/youless/strauss/data/samples/glockenspiels/*')"
   ]
  },
  {
   "cell_type": "code",
   "execution_count": 3,
   "id": "63867865-3ff7-4f82-b955-2936f7e48f31",
   "metadata": {},
   "outputs": [],
   "source": [
    "from strauss.generator import interp1d\n",
    "from strauss.generator import scipy"
   ]
  },
  {
   "cell_type": "code",
   "execution_count": 5,
   "id": "4c265722-ee29-4c5b-bcac-f52b93363fd3",
   "metadata": {
    "tags": []
   },
   "outputs": [
    {
     "data": {
      "text/plain": [
       "'/home/youless/.local/lib/python3.10/site-packages/scipy/__init__.py'"
      ]
     },
     "execution_count": 5,
     "metadata": {},
     "output_type": "execute_result"
    }
   ],
   "source": [
    "scipy.__file__"
   ]
  },
  {
   "cell_type": "code",
   "execution_count": null,
   "id": "a720409e-1a11-4839-aec8-28ea64ae9f6a",
   "metadata": {},
   "outputs": [],
   "source": []
  }
 ],
 "metadata": {
  "kernelspec": {
   "display_name": "Python 3 (ipykernel)",
   "language": "python",
   "name": "python3"
  },
  "language_info": {
   "codemirror_mode": {
    "name": "ipython",
    "version": 3
   },
   "file_extension": ".py",
   "mimetype": "text/x-python",
   "name": "python",
   "nbconvert_exporter": "python",
   "pygments_lexer": "ipython3",
   "version": "3.10.9"
  }
 },
 "nbformat": 4,
 "nbformat_minor": 5
}
