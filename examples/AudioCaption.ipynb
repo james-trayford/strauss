{
 "cells": [
  {
   "cell_type": "markdown",
   "id": "e5498e86-ef19-4ce0-b348-e731c7ef251c",
   "metadata": {},
   "source": [
    "### <u> Generate a sonification with an audio caption </u>\n",
    "**Import the relevant modules:**"
   ]
  },
  {
   "cell_type": "code",
   "execution_count": null,
   "id": "2ebc7e44-2cc4-4106-a5fe-3d01f49bb8f1",
   "metadata": {},
   "outputs": [],
   "source": [
    "%matplotlib inline\n",
    "%reload_ext autoreload \n",
    "%autoreload 2\n",
    "from strauss.sonification import Sonification\n",
    "from strauss.sources import Events\n",
    "from strauss import channels\n",
    "from strauss.score import Score\n",
    "from strauss.tts_caption import render_caption\n",
    "import numpy as np\n",
    "from strauss.generator import Sampler\n",
    "import os"
   ]
  },
  {
   "cell_type": "markdown",
   "id": "97964d85-d186-4799-ba11-662f92b935fc",
   "metadata": {},
   "source": [
    "**Generate the sonification (a short sequence of glockenspiel notes):**"
   ]
  },
  {
   "cell_type": "code",
   "execution_count": null,
   "id": "6c6e8f4c-e8d7-491b-b264-bf77d28f70d1",
   "metadata": {},
   "outputs": [],
   "source": [
    "# platform agnostic absolute path for samples...\n",
    "import strauss\n",
    "sample_path = '/'.join(strauss.__file__.split('/')[:-3] +['data','samples','glockenspiels'])\n",
    "\n",
    "# setup used in stars appearing example\n",
    "chords = [['Db3','Gb3', 'Ab3', 'Eb4','F4']]\n",
    "length = 6\n",
    "system = 'mono'\n",
    "score =  Score(chords, length)\n",
    "\n",
    "maplims =  {'time': ('0', '150'),\n",
    "            'pitch' : ('0', '100'),\n",
    "           'phi':('0','100'),\n",
    "            'theta':('0','100')}\n",
    "\n",
    "events = Events(maplims.keys())\n",
    "\n",
    "data = {'pitch':np.arange(5),\n",
    "        'time':np.arange(5),\n",
    "       'phi': np.arange(5),\n",
    "       'theta': np.arange(5)}\n",
    "\n",
    "\n",
    "generator = Sampler(sample_path)\n",
    "\n",
    "events.fromdict(data)\n",
    "events.apply_mapping_functions(map_lims=maplims)"
   ]
  },
  {
   "cell_type": "markdown",
   "id": "df77e5eb-f5e0-4dda-975a-b6ffa5c9fbe4",
   "metadata": {},
   "source": [
    "**The caption is expected in the form of a text file. Here, we write a temporary text file for the audio caption, then read it in and delete it afterwards.**"
   ]
  },
  {
   "cell_type": "code",
   "execution_count": null,
   "id": "b214869f-1eb4-4c02-a453-cad066d357d2",
   "metadata": {},
   "outputs": [],
   "source": [
    "# Read a caption in from a text file\n",
    "with open('temp_text.txt', 'w') as f:\n",
    "    f.write(' In the following sonification, a glockenspiel is used to represent stars of varying colour.')\n",
    "with open('temp_text.txt', 'r') as f:\n",
    "    caption = f.read().replace('\\n', '')\n",
    "os.remove('temp_text.txt')"
   ]
  },
  {
   "cell_type": "markdown",
   "id": "11fb1f5f-a4fe-4523-8c07-946f89587bec",
   "metadata": {},
   "source": [
    "**Generate text-to-speech (TTS) for the caption.**"
   ]
  },
  {
   "cell_type": "code",
   "execution_count": null,
   "id": "68b04f22-2f43-4ba6-9c8b-4ed35b31a983",
   "metadata": {},
   "outputs": [],
   "source": [
    "# render at default 48 kHz rate\n",
    "soni = Sonification(score, events, generator, system,\n",
    "                    caption=caption, samprate=48000,\n",
    "                    model='tts_models/en/jenny/jenny')\n",
    "soni.render()\n",
    "soni.notebook_display()"
   ]
  },
  {
   "cell_type": "markdown",
   "id": "5face2b5-e505-49f7-94dc-5fae2f75c349",
   "metadata": {},
   "source": [
    "### <u> About TTS </u>\n",
    "**Other TTS models are available in several languages. We can list them and try some out.**"
   ]
  },
  {
   "cell_type": "code",
   "execution_count": null,
   "id": "0d2ec1b5-9ec4-4d53-a677-f0f18bb70699",
   "metadata": {},
   "outputs": [],
   "source": [
    "import sys\n",
    "print(sys.version_info)\n",
    "from TTS.api import TTS\n",
    "from IPython.display import Audio\n",
    "\n",
    "# List models\n",
    "TTS.list_models()"
   ]
  },
  {
   "cell_type": "markdown",
   "id": "72430c8a-31e0-419a-86de-3cfbc808e195",
   "metadata": {},
   "source": [
    "**It can take a while to download a model for the first time.**"
   ]
  },
  {
   "cell_type": "code",
   "execution_count": null,
   "id": "bb29adbd-72d4-4774-a3ed-f00643e5d237",
   "metadata": {},
   "outputs": [],
   "source": [
    "# Test example 1: the following is a male German voice.\n",
    "OUTPUT_PATH = 'tts_german.wav'\n",
    "tts = TTS(model_name='tts_models/de/thorsten/vits', progress_bar=False, gpu=False)\n",
    "tts.tts_to_file(text=' Der flinke braune Fuchs sprang über die faulen Hunde.', file_path=OUTPUT_PATH)\n",
    "Audio(OUTPUT_PATH, autoplay=False)"
   ]
  },
  {
   "cell_type": "code",
   "execution_count": null,
   "id": "19ab733e-21be-477f-b824-3cb4b075259a",
   "metadata": {},
   "outputs": [],
   "source": [
    "# Test example 2: the following is a female US-English voice.\n",
    "OUTPUT_PATH = 'tts_english.wav'\n",
    "tts = TTS(model_name='tts_models/en/ljspeech/tacotron2-DDC', progress_bar=False, gpu=False)\n",
    "tts.tts_to_file(text=' The quick brown fox jumped over the lazy dogs.', file_path=OUTPUT_PATH)\n",
    "Audio(OUTPUT_PATH, autoplay=False)"
   ]
  },
  {
   "cell_type": "markdown",
   "id": "6494d0ce-0d42-4618-8494-0ffffa7268b6",
   "metadata": {},
   "source": [
    "**TTS ignores anything it doesn't recognise, such as Greek letters and some mathematical symbols. It can also struggle with multi-digit numbers. It's best to write these out long-hand. Here is an example:**"
   ]
  },
  {
   "cell_type": "code",
   "execution_count": null,
   "id": "c0628df9-b6fa-4ad7-aa0e-1d7530964bc4",
   "metadata": {},
   "outputs": [],
   "source": [
    "tts = TTS(model_name='tts_models/en/jenny/jenny', progress_bar=False, gpu=False)\n",
    "OUTPUT_PATH = 'tts_lya.wav'\n",
    "tts.tts_to_file(text=\" The Lyman-α resonance is 1216 Å. The Lyman alpha resonance is twelve hundred and sixteen angstroms.\",\n",
    "                file_path=OUTPUT_PATH)\n",
    "Audio(OUTPUT_PATH, autoplay=False)"
   ]
  },
  {
   "cell_type": "markdown",
   "id": "87e793d0-994d-4eba-8263-929748029ac0",
   "metadata": {},
   "source": [
    "## <u> Sandbox </u>"
   ]
  },
  {
   "cell_type": "code",
   "execution_count": null,
   "id": "191e5cd0-dab4-486d-827b-4827fa6a8e52",
   "metadata": {},
   "outputs": [],
   "source": []
  }
 ],
 "metadata": {
  "kernelspec": {
   "display_name": "Python 3 (ipykernel)",
   "language": "python",
   "name": "python3"
  },
  "language_info": {
   "codemirror_mode": {
    "name": "ipython",
    "version": 3
   },
   "file_extension": ".py",
   "mimetype": "text/x-python",
   "name": "python",
   "nbconvert_exporter": "python",
   "pygments_lexer": "ipython3",
   "version": "3.8.16"
  }
 },
 "nbformat": 4,
 "nbformat_minor": 5
}
