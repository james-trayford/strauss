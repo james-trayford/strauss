{
 "cells": [
  {
   "cell_type": "code",
   "execution_count": null,
   "id": "2ebc7e44-2cc4-4106-a5fe-3d01f49bb8f1",
   "metadata": {},
   "outputs": [],
   "source": [
    "%matplotlib inline\n",
    "%reload_ext autoreload \n",
    "%autoreload 2\n",
    "from strauss.sonification import Sonification\n",
    "from strauss.sources import Events\n",
    "from strauss import channels\n",
    "from strauss.score import Score\n",
    "from strauss.tts_caption import render_caption\n",
    "import numpy as np\n",
    "from strauss.generator import Sampler\n",
    "\n",
    "# platform agnostic absolute path for samples...\n",
    "import strauss\n",
    "sample_path = '/'.join(strauss.__file__.split('/')[:-3] +['data','samples','glockenspiels'])"
   ]
  },
  {
   "cell_type": "code",
   "execution_count": null,
   "id": "6c6e8f4c-e8d7-491b-b264-bf77d28f70d1",
   "metadata": {},
   "outputs": [],
   "source": [
    "# setup used in stars appearing example\n",
    "\n",
    "chords = [['Db3','Gb3', 'Ab3', 'Eb4','F4']]\n",
    "length = 6\n",
    "system = 'mono'\n",
    "score =  Score(chords, length)\n",
    "\n",
    "maplims =  {'time': ('0', '150'),\n",
    "            'pitch' : ('0', '100'),\n",
    "           'phi':('0','100'),\n",
    "            'theta':('0','100')}\n",
    "\n",
    "events = Events(maplims.keys())\n",
    "\n",
    "data = {'pitch':np.arange(5),\n",
    "        'time':np.arange(5),\n",
    "       'phi': np.arange(5),\n",
    "       'theta': np.arange(5)}\n",
    "\n",
    "\n",
    "generator = Sampler(sample_path)\n",
    "\n",
    "events.fromdict(data)\n",
    "events.apply_mapping_functions(map_lims=maplims)"
   ]
  },
  {
   "cell_type": "code",
   "execution_count": null,
   "id": "b214869f-1eb4-4c02-a453-cad066d357d2",
   "metadata": {},
   "outputs": [],
   "source": [
    "# Alternatively, read a caption in from a text file\n",
    "with open('input_text.txt', 'w') as f:\n",
    "    f.write('You are about to hear a sonification. It uses a glockenspiel to represent stars.')\n",
    "with open('input_text.txt', 'r') as f:\n",
    "    caption = f.read().replace('\\n', '')"
   ]
  },
  {
   "cell_type": "code",
   "execution_count": null,
   "id": "68b04f22-2f43-4ba6-9c8b-4ed35b31a983",
   "metadata": {},
   "outputs": [],
   "source": [
    "# render at default 48 kHz rate\n",
    "soni = Sonification(score, events, generator, system, caption='This is a sonification.', samprate=48000,\n",
    "                    model='tts_models/en/jenny/jenny')\n",
    "soni.render()\n",
    "soni.notebook_display()"
   ]
  },
  {
   "cell_type": "code",
   "execution_count": null,
   "id": "2b7c07c9-2711-4594-ab97-0be5a6cc7607",
   "metadata": {},
   "outputs": [],
   "source": []
  }
 ],
 "metadata": {
  "kernelspec": {
   "display_name": "Python 3 (ipykernel)",
   "language": "python",
   "name": "python3"
  },
  "language_info": {
   "codemirror_mode": {
    "name": "ipython",
    "version": 3
   },
   "file_extension": ".py",
   "mimetype": "text/x-python",
   "name": "python",
   "nbconvert_exporter": "python",
   "pygments_lexer": "ipython3",
   "version": "3.8.2"
  }
 },
 "nbformat": 4,
 "nbformat_minor": 5
}
