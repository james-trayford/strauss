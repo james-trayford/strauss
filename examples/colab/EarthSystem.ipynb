{
 "cells": [
  {
   "cell_type": "markdown",
   "id": "7cb00786-b0e8-42fb-81f4-7f20cc226ef6",
   "metadata": {},
   "source": [
    "#### Preamble for `CoLab` "
   ]
  },
  {
   "cell_type": "markdown",
   "id": "d17dfb09-25b6-4bec-a4d9-f5b2a8e8b8dd",
   "metadata": {},
   "source": [
    "To use this notebook (if you haven't already) you can first save a copy to your local drive by clicking `File > Save a Copy in Drive` and run on that copy."
   ]
  },
  {
   "cell_type": "markdown",
   "id": "60bd4720-6f54-47e2-861d-592866879522",
   "metadata": {},
   "source": [
    "_Note_: `Colab` is a really handy way to test and try `strauss`, though it will generally run and display audio more slowly than running on your local machine. There are also RAM limitations that limit the size and complexity of sonifications we can make. For a more responsive experience, why not install `strauss` locally, following the instructions [on the Github](https://github.com/james-trayford/strauss)?"
   ]
  },
  {
   "cell_type": "markdown",
   "id": "6e020798-ce0f-400b-82c0-4744ac071b3c",
   "metadata": {},
   "source": [
    "Run these cells, so that the notebook functions on the _Google_ `Colab` platform:"
   ]
  },
  {
   "cell_type": "code",
   "execution_count": null,
   "id": "85c8997c-81f5-4773-841d-e5377005ce4b",
   "metadata": {},
   "outputs": [],
   "source": [
    "%pip --quiet install strauss"
   ]
  },
  {
   "cell_type": "code",
   "execution_count": null,
   "id": "c20ab985-b3df-4fef-9d05-762f7467f7a7",
   "metadata": {},
   "outputs": [],
   "source": [
    "!git clone https://github.com/james-trayford/strauss.git"
   ]
  },
  {
   "cell_type": "code",
   "execution_count": null,
   "id": "09da19bd-f441-49d6-ac15-14965d8faae0",
   "metadata": {},
   "outputs": [],
   "source": [
    "%cd strauss/examples/"
   ]
  },
  {
   "cell_type": "markdown",
   "id": "03b73a45",
   "metadata": {},
   "source": [
    "### <u> Generate the Earth rotation sound for the Planetarium Show</u>"
   ]
  },
  {
   "cell_type": "markdown",
   "id": "37f21355",
   "metadata": {},
   "source": [
    "**First, import relevant modules:**"
   ]
  },
  {
   "cell_type": "code",
   "execution_count": null,
   "id": "f64e736a",
   "metadata": {},
   "outputs": [],
   "source": [
    "%reload_ext autoreload \n",
    "%autoreload 2\n",
    "%matplotlib inline\n",
    "import matplotlib.pyplot as plt\n",
    "import ffmpeg as ff\n",
    "import wavio as wav\n",
    "from strauss.sonification import Sonification\n",
    "from strauss.sources import Objects\n",
    "from strauss import channels\n",
    "from strauss.score import Score\n",
    "import numpy as np\n",
    "from strauss.generator import Synthesizer\n",
    "import IPython.display as ipd\n",
    "import os\n",
    "from scipy.interpolate import interp1d"
   ]
  },
  {
   "cell_type": "markdown",
   "id": "c4a3e9c2-e9e3-48ca-a21c-0ae64bb549f6",
   "metadata": {},
   "source": [
    "**Then, import the land fraction data**\n",
    "\n",
    "The land fraction as a function of longitude is converted to a water fraction (i.e. $1-f_{\\rm water}$), and mapped of three rotation cycles to control the LP filter cutoff. This is normalised to a range within the [0,1] range, chosen to sound good."
   ]
  },
  {
   "cell_type": "code",
   "execution_count": null,
   "id": "fbf7b1b5-79b7-4a2a-a8e9-15f196a15ca6",
   "metadata": {},
   "outputs": [],
   "source": [
    "datafile = \"../data/datasets/landfrac.txt\"\n",
    "data = np.genfromtxt(datafile)\n",
    "\n",
    "longitude = data[:,0]\n",
    "waterfrac = 1-data[:,1]\n",
    "\n",
    "startlong = 180-(96 + 15./60 + 2.2/3600)\n",
    "# we travel backwards in longitude per the earth's rotation\n",
    "longgrid = (np.linspace(startlong,720+startlong,2599)%360 - 180.)[::-1] \n",
    "wfrac = interp1d(longitude, waterfrac)\n",
    "\n",
    "wfracgrid = wfrac(longgrid)*0.75 + 0.15\n",
    "timegrid = np.linspace(0,1,wfracgrid.size)\n",
    "\n",
    "plt.plot(timegrid, wfracgrid)\n",
    "plt.ylabel(\"Normalised Water Fraction\")\n",
    "plt.xlabel(r\"${\\rm Rotation}\\; [6\\pi]$\")\n",
    "plt.show()\n"
   ]
  },
  {
   "cell_type": "markdown",
   "id": "d0f6edf6-59bf-4bdc-a9e7-c7f097cd08d3",
   "metadata": {},
   "source": [
    "and set up the synthesiser"
   ]
  },
  {
   "cell_type": "code",
   "execution_count": null,
   "id": "009d6c9a-fb4c-4cd9-a87d-ccae4f280d89",
   "metadata": {},
   "outputs": [],
   "source": [
    "# chord representing the earth (a Gbsus7 chord)\n",
    "notes = [['Gb3', 'Db4', 'E4', 'B4']]\n",
    "\n",
    "# specify audio system (e.g. mono, stereo, 5.1, ...)\n",
    "system = \"stereo\"\n",
    "\n",
    "length = 60.\n",
    "\n",
    "# set up synth and turn on LP filter\n",
    "generator = Synthesizer()\n",
    "generator.modify_preset({'filter':'on'}) "
   ]
  },
  {
   "cell_type": "markdown",
   "id": "b7a7b7ed-6da8-4694-8aef-df00a7277d42",
   "metadata": {},
   "source": [
    "Map the data and render sonification for the Earth's rotation..."
   ]
  },
  {
   "cell_type": "code",
   "execution_count": null,
   "id": "7c92480b-345a-4212-883c-b9eded4060d5",
   "metadata": {},
   "outputs": [],
   "source": [
    "score =  Score(notes, length)\n",
    "\n",
    "# volume swell is directly ahead\n",
    "data = {'cutoff':[wfracgrid]*4,\n",
    "        'time_evo':[timegrid]*4,\n",
    "        'pitch':list(range(4))}\n",
    "\n",
    "# set up source\n",
    "sources = Objects(data.keys())\n",
    "sources.fromdict(data)\n",
    "sources.apply_mapping_functions()\n",
    "\n",
    "soni = Sonification(score, sources, generator, system)\n",
    "soni.render()"
   ]
  },
  {
   "cell_type": "markdown",
   "id": "171f4766-3a4d-49c1-b6b9-baf7260dec27",
   "metadata": {},
   "source": [
    "**Listen to and plot the waveforms from the sonification:**"
   ]
  },
  {
   "cell_type": "code",
   "execution_count": null,
   "id": "97dd6b8c",
   "metadata": {},
   "outputs": [],
   "source": [
    "soni.notebook_display()"
   ]
  },
  {
   "cell_type": "markdown",
   "id": "14aae7e4-28fd-47bb-af1a-9a953370969c",
   "metadata": {},
   "source": [
    "**Combine and save sonification to a multi-channel wav** \n",
    "\n",
    "NOTE: Change `\"../../FILENAME.wav\"` to your filepath of choice"
   ]
  },
  {
   "cell_type": "code",
   "execution_count": null,
   "id": "7bed74fc-a506-47d7-aff1-0ea6e200bd8a",
   "metadata": {},
   "outputs": [],
   "source": [
    "soni.save(\"../../earth.wav\")"
   ]
  },
  {
   "cell_type": "code",
   "execution_count": null,
   "id": "199c9068-c536-41dc-83f8-3b9751082b14",
   "metadata": {},
   "outputs": [],
   "source": []
  }
 ],
 "metadata": {
  "kernelspec": {
   "display_name": "Python 3 (ipykernel)",
   "language": "python",
   "name": "python3"
  },
  "language_info": {
   "codemirror_mode": {
    "name": "ipython",
    "version": 3
   },
   "file_extension": ".py",
   "mimetype": "text/x-python",
   "name": "python",
   "nbconvert_exporter": "python",
   "pygments_lexer": "ipython3",
   "version": "3.11.9"
  }
 },
 "nbformat": 4,
 "nbformat_minor": 5
}
